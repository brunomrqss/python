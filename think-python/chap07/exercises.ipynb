{
 "cells": [
  {
   "cell_type": "code",
   "execution_count": null,
   "metadata": {},
   "outputs": [
    {
     "data": {
      "text/plain": [
       "True"
      ]
     },
     "execution_count": 23,
     "metadata": {},
     "output_type": "execute_result"
    }
   ],
   "source": [
    "def uses_none(word, forbidden):\n",
    "    inword=0\n",
    "    for i in word:\n",
    "        if i not in forbidden:\n",
    "            inword+=0\n",
    "        \n",
    "        if i in forbidden:\n",
    "            inword+=1 \n",
    "        \n",
    "    if inword == 0:\n",
    "        return True\n",
    "    else:\n",
    "        return False\n",
    "\n",
    "uses_none('banana', 'aws')"
   ]
  },
  {
   "cell_type": "code",
   "execution_count": null,
   "metadata": {},
   "outputs": [
    {
     "data": {
      "text/plain": [
       "False"
      ]
     },
     "execution_count": 25,
     "metadata": {},
     "output_type": "execute_result"
    }
   ],
   "source": [
    "#3 \n",
    "def uses_all(word, required):\n",
    "    for j in word:\n",
    "        if j not in required:\n",
    "            return False \n",
    "        \n",
    "    return True\n",
    "\n",
    "uses_all('apple', 'api')"
   ]
  },
  {
   "cell_type": "code",
   "execution_count": null,
   "metadata": {},
   "outputs": [
    {
     "data": {
      "text/plain": [
       "False"
      ]
     },
     "execution_count": 4,
     "metadata": {},
     "output_type": "execute_result"
    }
   ],
   "source": [
    "#4 \n",
    "def check_word(word, available, required):\n",
    "    for i in word:\n",
    "        if i not in available or len(word) < 4 or required not in word:\n",
    "            return False\n",
    "        \n",
    "        if i in required and len(word) >= 4:\n",
    "            return True\n",
    "            \n",
    "\n",
    "\n",
    "# check_word('colorab','acdlort','r')\n",
    "# check_word('told','acdlort','r')\n",
    "# check_word('bee','acdlort','r')"
   ]
  },
  {
   "cell_type": "code",
   "execution_count": null,
   "metadata": {},
   "outputs": [
    {
     "data": {
      "text/plain": [
       "5"
      ]
     },
     "execution_count": 22,
     "metadata": {},
     "output_type": "execute_result"
    }
   ],
   "source": [
    "# 5\n",
    "def word_score(word, available):\n",
    "    points=0\n",
    "    allin=0\n",
    "    for i in word:\n",
    "        if i not in available.lower() or len(word) < 4:\n",
    "            break\n",
    "        \n",
    "        if i in available.lower():\n",
    "            allin+=1\n",
    "\n",
    "    if len(word)==4:\n",
    "        points+=1 \n",
    "\n",
    "    if len(word)>=4:\n",
    "        points+=len(word)\n",
    "\n",
    "    if allin >= len(available):\n",
    "        points+=7\n",
    "\n",
    "    return points  \n",
    "\n",
    "            \n",
    "# word_score('card', 'acdlort')\n",
    "# word_score('color', 'acdlort')\n",
    "# word_score('cartload', 'ACDLORT')"
   ]
  }
 ],
 "metadata": {
  "kernelspec": {
   "display_name": "base",
   "language": "python",
   "name": "python3"
  },
  "language_info": {
   "codemirror_mode": {
    "name": "ipython",
    "version": 3
   },
   "file_extension": ".py",
   "mimetype": "text/x-python",
   "name": "python",
   "nbconvert_exporter": "python",
   "pygments_lexer": "ipython3",
   "version": "3.12.4"
  }
 },
 "nbformat": 4,
 "nbformat_minor": 2
}
